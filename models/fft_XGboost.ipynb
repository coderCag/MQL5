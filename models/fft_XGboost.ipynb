{
 "cells": [
  {
   "cell_type": "code",
   "execution_count": 6,
   "metadata": {},
   "outputs": [],
   "source": [
    "import numpy as np\n",
    "import pandas as pd\n",
    "import random\n",
    "from datetime import datetime\n",
    "import MetaTrader5 as mt5\n",
    "import time\n",
    "import concurrent.futures\n",
    "from tqdm import tqdm\n",
    "from sklearn.model_selection import train_test_split\n",
    "import matplotlib.pyplot as plt\n",
    "from sklearn.utils import class_weight\n",
    "from imblearn.under_sampling import RandomUnderSampler\n",
    "import xgboost as xgb\n",
    "from sklearn.datasets import load_iris\n",
    "from sklearn.model_selection import train_test_split\n",
    "from sklearn.metrics import accuracy_score\n"
   ]
  },
  {
   "cell_type": "code",
   "execution_count": 7,
   "metadata": {},
   "outputs": [],
   "source": [
    "BACKWARD = datetime(2024, 12, 18)\n",
    "EXAMWARD = datetime(2025, 2, 18)\n",
    "\n",
    "def getData(symbol, timeframe, start, end,columns):\n",
    "    attempt = 0\n",
    "    retries_limit = 100\n",
    "    while attempt < retries_limit:\n",
    "        if not mt5.initialize():\n",
    "            print(\"initialize() failed, error code =\",mt5.last_error())\n",
    "            mt5.shutdown()\n",
    "            return None\n",
    "        instrument_count = mt5.symbols_total()\n",
    "        print(mt5.terminal_info())\n",
    "        print(mt5.terminal_info()._asdict())\n",
    "        if instrument_count > 0:\n",
    "            print(f\"Number of instruments in the terminal: {instrument_count}\")\n",
    "        else:\n",
    "            print(\"No instruments in the terminal\")\n",
    "\n",
    "        rates = mt5.copy_rates_range(symbol, timeframe, start, end)\n",
    "        if(rates is None):\n",
    "            print(mt5.last_error())\n",
    "        mt5.shutdown()\n",
    "        print(len(rates))\n",
    "        if rates is None or len(rates) == 0:\n",
    "            print(f\"Data for {symbol} not available (attempt {attempt+1})\")\n",
    "            attempt += 1\n",
    "            time.sleep(1)\n",
    "        else:\n",
    "            raw_data = pd.DataFrame(rates[:-1], columns=columns)\n",
    "            break\n",
    "    if raw_data is None:\n",
    "        print(f\"Data retrieval failed after {retries_limit} attempts\")\n",
    "        return None\n",
    "    return raw_data"
   ]
  },
  {
   "cell_type": "code",
   "execution_count": 8,
   "metadata": {},
   "outputs": [],
   "source": [
    "def data_preprocessing(raw_data,count):\n",
    "    dataset = raw_data[\"close\"]-raw_data[\"open\"]\n",
    "    input_data = np.empty((0,2*count+1))\n",
    "    for i in range(0, len(dataset)-count-1):\n",
    "        temp_data = dataset[i:i+count]\n",
    "        fft_signal = np.fft.fft(temp_data)\n",
    "        magnitude = np.abs(fft_signal)\n",
    "        phase = np.angle(fft_signal)\n",
    "        if dataset[i+count+1] > 0:\n",
    "            roi = 1\n",
    "        else:\n",
    "            roi = 0\n",
    "        result = np.hstack((magnitude, phase))\n",
    "        result = np.append(result, roi)\n",
    "        input_data =np.vstack((input_data,result))\n",
    "    return input_data\n",
    "        \n",
    "    \n",
    "    "
   ]
  },
  {
   "cell_type": "code",
   "execution_count": 10,
   "metadata": {},
   "outputs": [
    {
     "name": "stdout",
     "output_type": "stream",
     "text": [
      "TerminalInfo(community_account=False, community_connection=False, connected=True, dlls_allowed=False, trade_allowed=False, tradeapi_disabled=False, email_enabled=False, ftp_enabled=False, notifications_enabled=False, mqid=False, build=4872, maxbars=100000, codepage=936, ping_last=185143, community_balance=0.0, retransmission=5.704118607974359, company='MetaQuotes Ltd.', name='MetaTrader 5', language='Chinese (Simplified)', path='D:\\\\MQL5', data_path='D:\\\\MQL5', commondata_path='C:\\\\Users\\\\Reolink\\\\AppData\\\\Roaming\\\\MetaQuotes\\\\Terminal\\\\Common')\n",
      "{'community_account': False, 'community_connection': False, 'connected': True, 'dlls_allowed': False, 'trade_allowed': False, 'tradeapi_disabled': False, 'email_enabled': False, 'ftp_enabled': False, 'notifications_enabled': False, 'mqid': False, 'build': 4872, 'maxbars': 100000, 'codepage': 936, 'ping_last': 185143, 'community_balance': 0.0, 'retransmission': 5.704118607974359, 'company': 'MetaQuotes Ltd.', 'name': 'MetaTrader 5', 'language': 'Chinese (Simplified)', 'path': 'D:\\\\MQL5', 'data_path': 'D:\\\\MQL5', 'commondata_path': 'C:\\\\Users\\\\Reolink\\\\AppData\\\\Roaming\\\\MetaQuotes\\\\Terminal\\\\Common'}\n",
      "Number of instruments in the terminal: 10533\n",
      "1916\n"
     ]
    }
   ],
   "source": [
    "\n",
    "raw_data = getData('XAUUSD', mt5.TIMEFRAME_M30, BACKWARD, EXAMWARD,[\"time\",\"open\",\"close\"])\n",
    "raw_data[\"time\"] = pd.to_datetime(raw_data[\"time\"], unit='s')\n"
   ]
  },
  {
   "cell_type": "code",
   "execution_count": 30,
   "metadata": {},
   "outputs": [
    {
     "name": "stdout",
     "output_type": "stream",
     "text": [
      "(57311, 21)\n"
     ]
    }
   ],
   "source": [
    "input_data = data_preprocessing(raw_data,10)\n",
    "print(input_data.shape)"
   ]
  },
  {
   "cell_type": "code",
   "execution_count": 31,
   "metadata": {},
   "outputs": [],
   "source": [
    "def xgb_model(input_data,rounds):\n",
    "    x_train, x_test, y_train, y_test = train_test_split(input_data[:,:-1], input_data[:,-1], test_size=0.2)\n",
    "    dtrain = xgb.DMatrix(x_train, label=y_train)\n",
    "    dtest = xgb.DMatrix(x_test, label=y_test)\n",
    "    params= {\n",
    "        'objective': 'binary:logistic',\n",
    "        'eval_metric': 'logloss',\n",
    "        'eta': 0.05,\n",
    "        'max_depth': 6,\n",
    "    }\n",
    "    model = xgb.train(params, dtrain, rounds)\n",
    "    y_pred = model.predict(dtest)\n",
    "    y_pred_binary = [1 if i > 0.9 else 0 for i in y_pred]\n",
    "    accuracy = accuracy_score(y_test, y_pred_binary)\n",
    "    print(\"accuracy：\", accuracy)\n",
    "    return y_pred_binary\n",
    "    \n"
   ]
  },
  {
   "cell_type": "code",
   "execution_count": 32,
   "metadata": {},
   "outputs": [
    {
     "name": "stdout",
     "output_type": "stream",
     "text": [
      "accuracy： 0.501090464974265\n",
      "11463\n"
     ]
    }
   ],
   "source": [
    "y_pred_binary = xgb_model(input_data,100)\n",
    "print(len(y_pred_binary))"
   ]
  },
  {
   "cell_type": "code",
   "execution_count": 2,
   "metadata": {},
   "outputs": [],
   "source": [
    "import sqlite3"
   ]
  },
  {
   "cell_type": "code",
   "execution_count": 3,
   "metadata": {},
   "outputs": [],
   "source": [
    "conn = sqlite3.connect('D:/MQL5/MQL5/data.sqlite')\n"
   ]
  },
  {
   "cell_type": "code",
   "execution_count": null,
   "metadata": {},
   "outputs": [
    {
     "data": {
      "text/plain": [
       "<sqlite3.Cursor at 0x2a41d106540>"
      ]
     },
     "execution_count": 5,
     "metadata": {},
     "output_type": "execute_result"
    }
   ],
   "source": [
    "cursor = conn.cursor()\n",
    "cursor.execute(\"CREATE TABLE IF NOT EXISTS XAUUSD (time INTEGER , prediction INTEGER)\")"
   ]
  },
  {
   "cell_type": "code",
   "execution_count": 16,
   "metadata": {},
   "outputs": [],
   "source": [
    "cursor.execute(\"INSERT INTO XAUUSD (time, prediction) VALUES (?, ?)\", (1, 10))\n",
    "cursor.execute(\"INSERT INTO XAUUSD (time, prediction) VALUES (?, ?)\", (2, 20))\n",
    "cursor.execute(\"INSERT INTO XAUUSD (time, prediction) VALUES (?, ?)\", (3, 30))\n",
    "conn.commit()\n"
   ]
  },
  {
   "cell_type": "code",
   "execution_count": null,
   "metadata": {},
   "outputs": [],
   "source": []
  }
 ],
 "metadata": {
  "kernelspec": {
   "display_name": "base",
   "language": "python",
   "name": "python3"
  },
  "language_info": {
   "codemirror_mode": {
    "name": "ipython",
    "version": 3
   },
   "file_extension": ".py",
   "mimetype": "text/x-python",
   "name": "python",
   "nbconvert_exporter": "python",
   "pygments_lexer": "ipython3",
   "version": "3.12.7"
  }
 },
 "nbformat": 4,
 "nbformat_minor": 2
}
